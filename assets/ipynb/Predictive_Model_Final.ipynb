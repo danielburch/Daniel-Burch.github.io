{
  "nbformat": 4,
  "nbformat_minor": 0,
  "metadata": {
    "kernelspec": {
      "display_name": "Python 3",
      "language": "python",
      "name": "python3"
    },
    "language_info": {
      "codemirror_mode": {
        "name": "ipython",
        "version": 3
      },
      "file_extension": ".py",
      "mimetype": "text/x-python",
      "name": "python",
      "nbconvert_exporter": "python",
      "pygments_lexer": "ipython3",
      "version": "3.7.6"
    },
    "colab": {
      "name": "Predictive Model Final",
      "provenance": []
    }
  },
  "cells": [
    {
      "cell_type": "markdown",
      "metadata": {
        "id": "hJjVIa4Vx0K-",
        "colab_type": "text"
      },
      "source": [
        "# Housekeeping / Importing Data"
      ]
    },
    {
      "cell_type": "code",
      "metadata": {
        "id": "HIMPKvLS07Tt",
        "colab_type": "code",
        "colab": {
          "base_uri": "https://localhost:8080/",
          "height": 224
        },
        "outputId": "466872df-416b-4143-cf49-cda7ad6674cc"
      },
      "source": [
        "pip install category_encoders"
      ],
      "execution_count": 1,
      "outputs": [
        {
          "output_type": "stream",
          "text": [
            "Requirement already satisfied: category_encoders in /usr/local/lib/python3.6/dist-packages (2.2.2)\n",
            "Requirement already satisfied: scipy>=1.0.0 in /usr/local/lib/python3.6/dist-packages (from category_encoders) (1.4.1)\n",
            "Requirement already satisfied: pandas>=0.21.1 in /usr/local/lib/python3.6/dist-packages (from category_encoders) (1.0.5)\n",
            "Requirement already satisfied: numpy>=1.14.0 in /usr/local/lib/python3.6/dist-packages (from category_encoders) (1.18.5)\n",
            "Requirement already satisfied: scikit-learn>=0.20.0 in /usr/local/lib/python3.6/dist-packages (from category_encoders) (0.22.2.post1)\n",
            "Requirement already satisfied: statsmodels>=0.9.0 in /usr/local/lib/python3.6/dist-packages (from category_encoders) (0.10.2)\n",
            "Requirement already satisfied: patsy>=0.5.1 in /usr/local/lib/python3.6/dist-packages (from category_encoders) (0.5.1)\n",
            "Requirement already satisfied: python-dateutil>=2.6.1 in /usr/local/lib/python3.6/dist-packages (from pandas>=0.21.1->category_encoders) (2.8.1)\n",
            "Requirement already satisfied: pytz>=2017.2 in /usr/local/lib/python3.6/dist-packages (from pandas>=0.21.1->category_encoders) (2018.9)\n",
            "Requirement already satisfied: joblib>=0.11 in /usr/local/lib/python3.6/dist-packages (from scikit-learn>=0.20.0->category_encoders) (0.16.0)\n",
            "Requirement already satisfied: six in /usr/local/lib/python3.6/dist-packages (from patsy>=0.5.1->category_encoders) (1.15.0)\n"
          ],
          "name": "stdout"
        }
      ]
    },
    {
      "cell_type": "code",
      "metadata": {
        "id": "GZboFwoA2h35",
        "colab_type": "code",
        "colab": {
          "base_uri": "https://localhost:8080/",
          "height": 224
        },
        "outputId": "007899ef-7e3e-40df-f46f-dd875e3c2699"
      },
      "source": [
        "pip install eli5"
      ],
      "execution_count": 2,
      "outputs": [
        {
          "output_type": "stream",
          "text": [
            "Requirement already satisfied: eli5 in /usr/local/lib/python3.6/dist-packages (0.10.1)\n",
            "Requirement already satisfied: graphviz in /usr/local/lib/python3.6/dist-packages (from eli5) (0.10.1)\n",
            "Requirement already satisfied: six in /usr/local/lib/python3.6/dist-packages (from eli5) (1.15.0)\n",
            "Requirement already satisfied: scipy in /usr/local/lib/python3.6/dist-packages (from eli5) (1.4.1)\n",
            "Requirement already satisfied: jinja2 in /usr/local/lib/python3.6/dist-packages (from eli5) (2.11.2)\n",
            "Requirement already satisfied: attrs>16.0.0 in /usr/local/lib/python3.6/dist-packages (from eli5) (19.3.0)\n",
            "Requirement already satisfied: numpy>=1.9.0 in /usr/local/lib/python3.6/dist-packages (from eli5) (1.18.5)\n",
            "Requirement already satisfied: scikit-learn>=0.18 in /usr/local/lib/python3.6/dist-packages (from eli5) (0.22.2.post1)\n",
            "Requirement already satisfied: tabulate>=0.7.7 in /usr/local/lib/python3.6/dist-packages (from eli5) (0.8.7)\n",
            "Requirement already satisfied: MarkupSafe>=0.23 in /usr/local/lib/python3.6/dist-packages (from jinja2->eli5) (1.1.1)\n",
            "Requirement already satisfied: joblib>=0.11 in /usr/local/lib/python3.6/dist-packages (from scikit-learn>=0.18->eli5) (0.16.0)\n"
          ],
          "name": "stdout"
        }
      ]
    },
    {
      "cell_type": "code",
      "metadata": {
        "id": "8Hk0sMuc3pY-",
        "colab_type": "code",
        "colab": {
          "base_uri": "https://localhost:8080/",
          "height": 275
        },
        "outputId": "25ac707c-5ef8-447f-fbde-b8991c6b0429"
      },
      "source": [
        "pip install pdpbox"
      ],
      "execution_count": 3,
      "outputs": [
        {
          "output_type": "stream",
          "text": [
            "Requirement already satisfied: pdpbox in /usr/local/lib/python3.6/dist-packages (0.2.0)\n",
            "Requirement already satisfied: matplotlib>=2.1.2 in /usr/local/lib/python3.6/dist-packages (from pdpbox) (3.2.2)\n",
            "Requirement already satisfied: numpy in /usr/local/lib/python3.6/dist-packages (from pdpbox) (1.18.5)\n",
            "Requirement already satisfied: joblib in /usr/local/lib/python3.6/dist-packages (from pdpbox) (0.16.0)\n",
            "Requirement already satisfied: scikit-learn in /usr/local/lib/python3.6/dist-packages (from pdpbox) (0.22.2.post1)\n",
            "Requirement already satisfied: pandas in /usr/local/lib/python3.6/dist-packages (from pdpbox) (1.0.5)\n",
            "Requirement already satisfied: psutil in /usr/local/lib/python3.6/dist-packages (from pdpbox) (5.4.8)\n",
            "Requirement already satisfied: scipy in /usr/local/lib/python3.6/dist-packages (from pdpbox) (1.4.1)\n",
            "Requirement already satisfied: kiwisolver>=1.0.1 in /usr/local/lib/python3.6/dist-packages (from matplotlib>=2.1.2->pdpbox) (1.2.0)\n",
            "Requirement already satisfied: pyparsing!=2.0.4,!=2.1.2,!=2.1.6,>=2.0.1 in /usr/local/lib/python3.6/dist-packages (from matplotlib>=2.1.2->pdpbox) (2.4.7)\n",
            "Requirement already satisfied: cycler>=0.10 in /usr/local/lib/python3.6/dist-packages (from matplotlib>=2.1.2->pdpbox) (0.10.0)\n",
            "Requirement already satisfied: python-dateutil>=2.1 in /usr/local/lib/python3.6/dist-packages (from matplotlib>=2.1.2->pdpbox) (2.8.1)\n",
            "Requirement already satisfied: pytz>=2017.2 in /usr/local/lib/python3.6/dist-packages (from pandas->pdpbox) (2018.9)\n",
            "Requirement already satisfied: six in /usr/local/lib/python3.6/dist-packages (from cycler>=0.10->matplotlib>=2.1.2->pdpbox) (1.15.0)\n"
          ],
          "name": "stdout"
        }
      ]
    },
    {
      "cell_type": "code",
      "metadata": {
        "id": "FW0U29ZJQAE4",
        "colab_type": "code",
        "colab": {
          "base_uri": "https://localhost:8080/",
          "height": 156
        },
        "outputId": "4b5e4e59-184b-4323-b57e-b84697df2d40"
      },
      "source": [
        "import pandas as pd\n",
        "import numpy as np\n",
        "from pandas import melt\n",
        "%matplotlib inline\n",
        "import matplotlib.pyplot as plt\n",
        "import seaborn as sns\n",
        "import category_encoders as ce\n",
        "import eli5\n",
        "\n",
        "from sklearn.model_selection import train_test_split\n",
        "from sklearn.linear_model import Ridge\n",
        "from sklearn.impute import SimpleImputer\n",
        "from sklearn.pipeline import make_pipeline\n",
        "from sklearn.metrics import mean_absolute_error, mean_squared_error, r2_score\n",
        "from xgboost import XGBRegressor\n",
        "from sklearn.ensemble import RandomForestRegressor\n",
        "from eli5.sklearn import PermutationImportance"
      ],
      "execution_count": 4,
      "outputs": [
        {
          "output_type": "stream",
          "text": [
            "/usr/local/lib/python3.6/dist-packages/statsmodels/tools/_testing.py:19: FutureWarning: pandas.util.testing is deprecated. Use the functions in the public API at pandas.testing instead.\n",
            "  import pandas.util.testing as tm\n",
            "/usr/local/lib/python3.6/dist-packages/sklearn/utils/deprecation.py:144: FutureWarning: The sklearn.metrics.scorer module is  deprecated in version 0.22 and will be removed in version 0.24. The corresponding classes / functions should instead be imported from sklearn.metrics. Anything that cannot be imported from sklearn.metrics is now part of the private API.\n",
            "  warnings.warn(message, FutureWarning)\n",
            "/usr/local/lib/python3.6/dist-packages/sklearn/utils/deprecation.py:144: FutureWarning: The sklearn.feature_selection.base module is  deprecated in version 0.22 and will be removed in version 0.24. The corresponding classes / functions should instead be imported from sklearn.feature_selection. Anything that cannot be imported from sklearn.feature_selection is now part of the private API.\n",
            "  warnings.warn(message, FutureWarning)\n",
            "Using TensorFlow backend.\n"
          ],
          "name": "stderr"
        }
      ]
    },
    {
      "cell_type": "code",
      "metadata": {
        "id": "wHJz5IgVM-P1",
        "colab_type": "code",
        "colab": {
          "base_uri": "https://localhost:8080/",
          "height": 377
        },
        "outputId": "0596f5b7-bd1d-486c-815e-a4a370b8b6db"
      },
      "source": [
        "!wget https://www.dropbox.com/s/1jlb84uib98mncx/Metro_zhvi_uc_sfr_tier_0.33_0.67_sm_sa_mon%20%281%29.csv?dl=0"
      ],
      "execution_count": 5,
      "outputs": [
        {
          "output_type": "stream",
          "text": [
            "--2020-07-30 18:35:49--  https://www.dropbox.com/s/1jlb84uib98mncx/Metro_zhvi_uc_sfr_tier_0.33_0.67_sm_sa_mon%20%281%29.csv?dl=0\n",
            "Resolving www.dropbox.com (www.dropbox.com)... 162.125.1.1, 2620:100:6016:1::a27d:101\n",
            "Connecting to www.dropbox.com (www.dropbox.com)|162.125.1.1|:443... connected.\n",
            "HTTP request sent, awaiting response... 301 Moved Permanently\n",
            "Location: /s/raw/1jlb84uib98mncx/Metro_zhvi_uc_sfr_tier_0.33_0.67_sm_sa_mon%20%281%29.csv [following]\n",
            "--2020-07-30 18:35:49--  https://www.dropbox.com/s/raw/1jlb84uib98mncx/Metro_zhvi_uc_sfr_tier_0.33_0.67_sm_sa_mon%20%281%29.csv\n",
            "Reusing existing connection to www.dropbox.com:443.\n",
            "HTTP request sent, awaiting response... 302 Found\n",
            "Location: https://ucde711067a12914080653d728ca.dl.dropboxusercontent.com/cd/0/inline/A8iXkiHehppirvT3cdXJvfmBSJnVvVmiBFy2U0cJEgCnNfIdV2AUWBnlRVqUcJwiN-5tpAOaBMWnGhWFDpeww1UjdhDHwq_J3vyISY3mvyKFaYe-25YXIn6-zUXLgmRQ2Fo/file# [following]\n",
            "--2020-07-30 18:35:50--  https://ucde711067a12914080653d728ca.dl.dropboxusercontent.com/cd/0/inline/A8iXkiHehppirvT3cdXJvfmBSJnVvVmiBFy2U0cJEgCnNfIdV2AUWBnlRVqUcJwiN-5tpAOaBMWnGhWFDpeww1UjdhDHwq_J3vyISY3mvyKFaYe-25YXIn6-zUXLgmRQ2Fo/file\n",
            "Resolving ucde711067a12914080653d728ca.dl.dropboxusercontent.com (ucde711067a12914080653d728ca.dl.dropboxusercontent.com)... 162.125.1.15, 2620:100:6016:15::a27d:10f\n",
            "Connecting to ucde711067a12914080653d728ca.dl.dropboxusercontent.com (ucde711067a12914080653d728ca.dl.dropboxusercontent.com)|162.125.1.15|:443... connected.\n",
            "HTTP request sent, awaiting response... 200 OK\n",
            "Length: 2071724 (2.0M) [text/plain]\n",
            "Saving to: ‘Metro_zhvi_uc_sfr_tier_0.33_0.67_sm_sa_mon (1).csv?dl=0.2’\n",
            "\n",
            "Metro_zhvi_uc_sfr_t 100%[===================>]   1.98M  --.-KB/s    in 0.1s    \n",
            "\n",
            "2020-07-30 18:35:50 (17.8 MB/s) - ‘Metro_zhvi_uc_sfr_tier_0.33_0.67_sm_sa_mon (1).csv?dl=0.2’ saved [2071724/2071724]\n",
            "\n"
          ],
          "name": "stdout"
        }
      ]
    },
    {
      "cell_type": "code",
      "metadata": {
        "id": "hAp1oDz3PG9m",
        "colab_type": "code",
        "colab": {
          "base_uri": "https://localhost:8080/",
          "height": 377
        },
        "outputId": "9dcc52ee-4086-446c-a675-fcb45c367d59"
      },
      "source": [
        "!wget https://www.dropbox.com/s/7p73udtgkhn9au8/Metro_mean_doz_pending_uc_sfrcondo_raw_monthly.csv?dl=0"
      ],
      "execution_count": 6,
      "outputs": [
        {
          "output_type": "stream",
          "text": [
            "--2020-07-30 18:35:51--  https://www.dropbox.com/s/7p73udtgkhn9au8/Metro_mean_doz_pending_uc_sfrcondo_raw_monthly.csv?dl=0\n",
            "Resolving www.dropbox.com (www.dropbox.com)... 162.125.1.1, 2620:100:6016:1::a27d:101\n",
            "Connecting to www.dropbox.com (www.dropbox.com)|162.125.1.1|:443... connected.\n",
            "HTTP request sent, awaiting response... 301 Moved Permanently\n",
            "Location: /s/raw/7p73udtgkhn9au8/Metro_mean_doz_pending_uc_sfrcondo_raw_monthly.csv [following]\n",
            "--2020-07-30 18:35:51--  https://www.dropbox.com/s/raw/7p73udtgkhn9au8/Metro_mean_doz_pending_uc_sfrcondo_raw_monthly.csv\n",
            "Reusing existing connection to www.dropbox.com:443.\n",
            "HTTP request sent, awaiting response... 302 Found\n",
            "Location: https://uc48f8ef8dd8949c941becc288ae.dl.dropboxusercontent.com/cd/0/inline/A8hunMMZIQgwCooLN_vDmy0wFP65bssE_BRK6QPx-dza3p8iJHAXvsXWXu8E1iGA2h9JeDR6TuAJKkN10yOLa-Vd4Ly_TSjxoWrbXDKHYuFxzfzJNEQbBWZjqdWn2SYRkAU/file# [following]\n",
            "--2020-07-30 18:35:51--  https://uc48f8ef8dd8949c941becc288ae.dl.dropboxusercontent.com/cd/0/inline/A8hunMMZIQgwCooLN_vDmy0wFP65bssE_BRK6QPx-dza3p8iJHAXvsXWXu8E1iGA2h9JeDR6TuAJKkN10yOLa-Vd4Ly_TSjxoWrbXDKHYuFxzfzJNEQbBWZjqdWn2SYRkAU/file\n",
            "Resolving uc48f8ef8dd8949c941becc288ae.dl.dropboxusercontent.com (uc48f8ef8dd8949c941becc288ae.dl.dropboxusercontent.com)... 162.125.1.15, 2620:100:6016:15::a27d:10f\n",
            "Connecting to uc48f8ef8dd8949c941becc288ae.dl.dropboxusercontent.com (uc48f8ef8dd8949c941becc288ae.dl.dropboxusercontent.com)|162.125.1.15|:443... connected.\n",
            "HTTP request sent, awaiting response... 200 OK\n",
            "Length: 21964 (21K) [text/plain]\n",
            "Saving to: ‘Metro_mean_doz_pending_uc_sfrcondo_raw_monthly.csv?dl=0.2’\n",
            "\n",
            "Metro_mean_doz_pend 100%[===================>]  21.45K  --.-KB/s    in 0.007s  \n",
            "\n",
            "2020-07-30 18:35:51 (2.80 MB/s) - ‘Metro_mean_doz_pending_uc_sfrcondo_raw_monthly.csv?dl=0.2’ saved [21964/21964]\n",
            "\n"
          ],
          "name": "stdout"
        }
      ]
    },
    {
      "cell_type": "code",
      "metadata": {
        "id": "3qDB9ClUQ4YM",
        "colab_type": "code",
        "colab": {
          "base_uri": "https://localhost:8080/",
          "height": 377
        },
        "outputId": "63dfa815-6930-4617-a5a3-e573d3005d45"
      },
      "source": [
        "!wget https://www.dropbox.com/s/u4c9ft44p6umlti/Metro_perc_listings_price_cut_uc_sfrcondo_raw_month.csv?dl=0"
      ],
      "execution_count": 7,
      "outputs": [
        {
          "output_type": "stream",
          "text": [
            "--2020-07-30 18:35:52--  https://www.dropbox.com/s/u4c9ft44p6umlti/Metro_perc_listings_price_cut_uc_sfrcondo_raw_month.csv?dl=0\n",
            "Resolving www.dropbox.com (www.dropbox.com)... 162.125.1.1, 2620:100:6016:1::a27d:101\n",
            "Connecting to www.dropbox.com (www.dropbox.com)|162.125.1.1|:443... connected.\n",
            "HTTP request sent, awaiting response... 301 Moved Permanently\n",
            "Location: /s/raw/u4c9ft44p6umlti/Metro_perc_listings_price_cut_uc_sfrcondo_raw_month.csv [following]\n",
            "--2020-07-30 18:35:52--  https://www.dropbox.com/s/raw/u4c9ft44p6umlti/Metro_perc_listings_price_cut_uc_sfrcondo_raw_month.csv\n",
            "Reusing existing connection to www.dropbox.com:443.\n",
            "HTTP request sent, awaiting response... 302 Found\n",
            "Location: https://ucf8bed493741ca5ff5ecafcfb40.dl.dropboxusercontent.com/cd/0/inline/A8jesuK_IcGo2lULaptcrDqIosgnYo5DVXdU2x2IONLWoMv4CDoBok67r3e3uq-u51Zh8WpwXpUdpIw6Q22Nt_olWyl44KSMfg6XBKjLqToYlfDmIltBDmUps7x1Moj5PY8/file# [following]\n",
            "--2020-07-30 18:35:52--  https://ucf8bed493741ca5ff5ecafcfb40.dl.dropboxusercontent.com/cd/0/inline/A8jesuK_IcGo2lULaptcrDqIosgnYo5DVXdU2x2IONLWoMv4CDoBok67r3e3uq-u51Zh8WpwXpUdpIw6Q22Nt_olWyl44KSMfg6XBKjLqToYlfDmIltBDmUps7x1Moj5PY8/file\n",
            "Resolving ucf8bed493741ca5ff5ecafcfb40.dl.dropboxusercontent.com (ucf8bed493741ca5ff5ecafcfb40.dl.dropboxusercontent.com)... 162.125.1.15, 2620:100:6016:15::a27d:10f\n",
            "Connecting to ucf8bed493741ca5ff5ecafcfb40.dl.dropboxusercontent.com (ucf8bed493741ca5ff5ecafcfb40.dl.dropboxusercontent.com)|162.125.1.15|:443... connected.\n",
            "HTTP request sent, awaiting response... 200 OK\n",
            "Length: 26927 (26K) [text/plain]\n",
            "Saving to: ‘Metro_perc_listings_price_cut_uc_sfrcondo_raw_month.csv?dl=0.2’\n",
            "\n",
            "Metro_perc_listings 100%[===================>]  26.30K  --.-KB/s    in 0.008s  \n",
            "\n",
            "2020-07-30 18:35:53 (3.34 MB/s) - ‘Metro_perc_listings_price_cut_uc_sfrcondo_raw_month.csv?dl=0.2’ saved [26927/26927]\n",
            "\n"
          ],
          "name": "stdout"
        }
      ]
    },
    {
      "cell_type": "code",
      "metadata": {
        "id": "3zXsKZMLTYpT",
        "colab_type": "code",
        "colab": {
          "base_uri": "https://localhost:8080/",
          "height": 377
        },
        "outputId": "276addfd-3f58-4616-f665-81cb3c773efd"
      },
      "source": [
        "!wget https://www.dropbox.com/s/v6qtyojcjwpccyh/Metro_invt_fs_uc_sfrcondo_smoothed_month.csv?dl=0"
      ],
      "execution_count": 8,
      "outputs": [
        {
          "output_type": "stream",
          "text": [
            "--2020-07-30 18:35:53--  https://www.dropbox.com/s/v6qtyojcjwpccyh/Metro_invt_fs_uc_sfrcondo_smoothed_month.csv?dl=0\n",
            "Resolving www.dropbox.com (www.dropbox.com)... 162.125.1.1, 2620:100:6016:1::a27d:101\n",
            "Connecting to www.dropbox.com (www.dropbox.com)|162.125.1.1|:443... connected.\n",
            "HTTP request sent, awaiting response... 301 Moved Permanently\n",
            "Location: /s/raw/v6qtyojcjwpccyh/Metro_invt_fs_uc_sfrcondo_smoothed_month.csv [following]\n",
            "--2020-07-30 18:35:53--  https://www.dropbox.com/s/raw/v6qtyojcjwpccyh/Metro_invt_fs_uc_sfrcondo_smoothed_month.csv\n",
            "Reusing existing connection to www.dropbox.com:443.\n",
            "HTTP request sent, awaiting response... 302 Found\n",
            "Location: https://uc763666a2d5d4e6b4b91a6a903d.dl.dropboxusercontent.com/cd/0/inline/A8i5iI65EMSzeXoSJT8SrSBKF0LaVXAqSFpsUSMZ3F9S3DIT7oV6VS_6byDpa6rlLtEz9kfa2ZnORBvADmw1xUKGW2_eM6840a_V93KCB4-CMq9ixIG-kF_0Py5jT86vIco/file# [following]\n",
            "--2020-07-30 18:35:54--  https://uc763666a2d5d4e6b4b91a6a903d.dl.dropboxusercontent.com/cd/0/inline/A8i5iI65EMSzeXoSJT8SrSBKF0LaVXAqSFpsUSMZ3F9S3DIT7oV6VS_6byDpa6rlLtEz9kfa2ZnORBvADmw1xUKGW2_eM6840a_V93KCB4-CMq9ixIG-kF_0Py5jT86vIco/file\n",
            "Resolving uc763666a2d5d4e6b4b91a6a903d.dl.dropboxusercontent.com (uc763666a2d5d4e6b4b91a6a903d.dl.dropboxusercontent.com)... 162.125.1.15, 2620:100:6016:15::a27d:10f\n",
            "Connecting to uc763666a2d5d4e6b4b91a6a903d.dl.dropboxusercontent.com (uc763666a2d5d4e6b4b91a6a903d.dl.dropboxusercontent.com)|162.125.1.15|:443... connected.\n",
            "HTTP request sent, awaiting response... 200 OK\n",
            "Length: 32983 (32K) [text/plain]\n",
            "Saving to: ‘Metro_invt_fs_uc_sfrcondo_smoothed_month.csv?dl=0.2’\n",
            "\n",
            "Metro_invt_fs_uc_sf 100%[===================>]  32.21K  --.-KB/s    in 0.007s  \n",
            "\n",
            "2020-07-30 18:35:54 (4.84 MB/s) - ‘Metro_invt_fs_uc_sfrcondo_smoothed_month.csv?dl=0.2’ saved [32983/32983]\n",
            "\n"
          ],
          "name": "stdout"
        }
      ]
    },
    {
      "cell_type": "code",
      "metadata": {
        "id": "GuUUd_2XUN-p",
        "colab_type": "code",
        "colab": {
          "base_uri": "https://localhost:8080/",
          "height": 377
        },
        "outputId": "fcaa045c-30b9-44f6-ddff-9664587271cb"
      },
      "source": [
        "!wget https://www.dropbox.com/s/clpyr4o8esfiper/Metro_med_doz_pending_uc_sfrcondo_raw_monthly.csv?dl=0"
      ],
      "execution_count": 9,
      "outputs": [
        {
          "output_type": "stream",
          "text": [
            "--2020-07-30 18:35:54--  https://www.dropbox.com/s/clpyr4o8esfiper/Metro_med_doz_pending_uc_sfrcondo_raw_monthly.csv?dl=0\n",
            "Resolving www.dropbox.com (www.dropbox.com)... 162.125.1.1, 2620:100:6016:1::a27d:101\n",
            "Connecting to www.dropbox.com (www.dropbox.com)|162.125.1.1|:443... connected.\n",
            "HTTP request sent, awaiting response... 301 Moved Permanently\n",
            "Location: /s/raw/clpyr4o8esfiper/Metro_med_doz_pending_uc_sfrcondo_raw_monthly.csv [following]\n",
            "--2020-07-30 18:35:54--  https://www.dropbox.com/s/raw/clpyr4o8esfiper/Metro_med_doz_pending_uc_sfrcondo_raw_monthly.csv\n",
            "Reusing existing connection to www.dropbox.com:443.\n",
            "HTTP request sent, awaiting response... 302 Found\n",
            "Location: https://ucb63ba29f11345f44f97a50f5e5.dl.dropboxusercontent.com/cd/0/inline/A8gWHBrOB6WW09wmK9Hw_KJXeEpkCfmys6geYzKbx6sT3yrpwa0B8M-qHPRlsAuJt_f1MrAVTmuj8iG6D8XZ4tAeHkNBTE0XhBeiDKl0V3shXn_7V_63uz_jGnuyA-SIxDo/file# [following]\n",
            "--2020-07-30 18:35:55--  https://ucb63ba29f11345f44f97a50f5e5.dl.dropboxusercontent.com/cd/0/inline/A8gWHBrOB6WW09wmK9Hw_KJXeEpkCfmys6geYzKbx6sT3yrpwa0B8M-qHPRlsAuJt_f1MrAVTmuj8iG6D8XZ4tAeHkNBTE0XhBeiDKl0V3shXn_7V_63uz_jGnuyA-SIxDo/file\n",
            "Resolving ucb63ba29f11345f44f97a50f5e5.dl.dropboxusercontent.com (ucb63ba29f11345f44f97a50f5e5.dl.dropboxusercontent.com)... 162.125.1.15, 2620:100:6016:15::a27d:10f\n",
            "Connecting to ucb63ba29f11345f44f97a50f5e5.dl.dropboxusercontent.com (ucb63ba29f11345f44f97a50f5e5.dl.dropboxusercontent.com)|162.125.1.15|:443... connected.\n",
            "HTTP request sent, awaiting response... 200 OK\n",
            "Length: 21290 (21K) [text/plain]\n",
            "Saving to: ‘Metro_med_doz_pending_uc_sfrcondo_raw_monthly.csv?dl=0.2’\n",
            "\n",
            "Metro_med_doz_pendi 100%[===================>]  20.79K  --.-KB/s    in 0.007s  \n",
            "\n",
            "2020-07-30 18:35:55 (2.76 MB/s) - ‘Metro_med_doz_pending_uc_sfrcondo_raw_monthly.csv?dl=0.2’ saved [21290/21290]\n",
            "\n"
          ],
          "name": "stdout"
        }
      ]
    },
    {
      "cell_type": "code",
      "metadata": {
        "id": "gHl86wJFVOif",
        "colab_type": "code",
        "colab": {
          "base_uri": "https://localhost:8080/",
          "height": 377
        },
        "outputId": "073103dc-2853-4923-e657-a595b460adcf"
      },
      "source": [
        "!wget https://www.dropbox.com/s/hjlvaphvhef55c5/Metro_mlp_uc_sfrcondo_raw_month.csv?dl=0"
      ],
      "execution_count": 10,
      "outputs": [
        {
          "output_type": "stream",
          "text": [
            "--2020-07-30 18:35:55--  https://www.dropbox.com/s/hjlvaphvhef55c5/Metro_mlp_uc_sfrcondo_raw_month.csv?dl=0\n",
            "Resolving www.dropbox.com (www.dropbox.com)... 162.125.1.1, 2620:100:6016:1::a27d:101\n",
            "Connecting to www.dropbox.com (www.dropbox.com)|162.125.1.1|:443... connected.\n",
            "HTTP request sent, awaiting response... 301 Moved Permanently\n",
            "Location: /s/raw/hjlvaphvhef55c5/Metro_mlp_uc_sfrcondo_raw_month.csv [following]\n",
            "--2020-07-30 18:35:56--  https://www.dropbox.com/s/raw/hjlvaphvhef55c5/Metro_mlp_uc_sfrcondo_raw_month.csv\n",
            "Reusing existing connection to www.dropbox.com:443.\n",
            "HTTP request sent, awaiting response... 302 Found\n",
            "Location: https://uc4d422b0046148c54960ab87b70.dl.dropboxusercontent.com/cd/0/inline/A8hIpPFe2upmOXgbdYQmSyBGp_KK4kt_fKfchPeEFsrDNta-gd9Qk-fBtFtR8IZIpy8wSnwozvTdW9qbuXy-igIK9kQXmMPrqhf9MiIblocHFA4z82lxHAyELXk5WkIqFXY/file# [following]\n",
            "--2020-07-30 18:35:56--  https://uc4d422b0046148c54960ab87b70.dl.dropboxusercontent.com/cd/0/inline/A8hIpPFe2upmOXgbdYQmSyBGp_KK4kt_fKfchPeEFsrDNta-gd9Qk-fBtFtR8IZIpy8wSnwozvTdW9qbuXy-igIK9kQXmMPrqhf9MiIblocHFA4z82lxHAyELXk5WkIqFXY/file\n",
            "Resolving uc4d422b0046148c54960ab87b70.dl.dropboxusercontent.com (uc4d422b0046148c54960ab87b70.dl.dropboxusercontent.com)... 162.125.1.15, 2620:100:6016:15::a27d:10f\n",
            "Connecting to uc4d422b0046148c54960ab87b70.dl.dropboxusercontent.com (uc4d422b0046148c54960ab87b70.dl.dropboxusercontent.com)|162.125.1.15|:443... connected.\n",
            "HTTP request sent, awaiting response... 200 OK\n",
            "Length: 40021 (39K) [text/plain]\n",
            "Saving to: ‘Metro_mlp_uc_sfrcondo_raw_month.csv?dl=0.2’\n",
            "\n",
            "Metro_mlp_uc_sfrcon 100%[===================>]  39.08K  --.-KB/s    in 0.008s  \n",
            "\n",
            "2020-07-30 18:35:56 (4.61 MB/s) - ‘Metro_mlp_uc_sfrcondo_raw_month.csv?dl=0.2’ saved [40021/40021]\n",
            "\n"
          ],
          "name": "stdout"
        }
      ]
    },
    {
      "cell_type": "code",
      "metadata": {
        "id": "pfW0V_8iV_dw",
        "colab_type": "code",
        "colab": {
          "base_uri": "https://localhost:8080/",
          "height": 377
        },
        "outputId": "d03c2cc7-eb10-4f57-8b99-ddb52899c507"
      },
      "source": [
        "!wget https://www.dropbox.com/s/64a5m9ebo0zfw0u/Metro_median_sale_price_uc_SFRCondo_raw_month.csv?dl=0"
      ],
      "execution_count": 11,
      "outputs": [
        {
          "output_type": "stream",
          "text": [
            "--2020-07-30 18:35:56--  https://www.dropbox.com/s/64a5m9ebo0zfw0u/Metro_median_sale_price_uc_SFRCondo_raw_month.csv?dl=0\n",
            "Resolving www.dropbox.com (www.dropbox.com)... 162.125.1.1, 2620:100:6016:1::a27d:101\n",
            "Connecting to www.dropbox.com (www.dropbox.com)|162.125.1.1|:443... connected.\n",
            "HTTP request sent, awaiting response... 301 Moved Permanently\n",
            "Location: /s/raw/64a5m9ebo0zfw0u/Metro_median_sale_price_uc_SFRCondo_raw_month.csv [following]\n",
            "--2020-07-30 18:35:57--  https://www.dropbox.com/s/raw/64a5m9ebo0zfw0u/Metro_median_sale_price_uc_SFRCondo_raw_month.csv\n",
            "Reusing existing connection to www.dropbox.com:443.\n",
            "HTTP request sent, awaiting response... 302 Found\n",
            "Location: https://uce7cc3520472ecb5283cce18fd2.dl.dropboxusercontent.com/cd/0/inline/A8jcsunX4FjC71QpKmlQ_ZeS-jclp4mGkZnLwegLzIPPaR7xqveh9sdHTZfMH915BF71pMuKef4pnbU_aSohntsVvmdrp4vqzSDkONdqJkd89uqLGmu1UXJMM6qcFQ6Fkj0/file# [following]\n",
            "--2020-07-30 18:35:57--  https://uce7cc3520472ecb5283cce18fd2.dl.dropboxusercontent.com/cd/0/inline/A8jcsunX4FjC71QpKmlQ_ZeS-jclp4mGkZnLwegLzIPPaR7xqveh9sdHTZfMH915BF71pMuKef4pnbU_aSohntsVvmdrp4vqzSDkONdqJkd89uqLGmu1UXJMM6qcFQ6Fkj0/file\n",
            "Resolving uce7cc3520472ecb5283cce18fd2.dl.dropboxusercontent.com (uce7cc3520472ecb5283cce18fd2.dl.dropboxusercontent.com)... 162.125.1.15, 2620:100:6016:15::a27d:10f\n",
            "Connecting to uce7cc3520472ecb5283cce18fd2.dl.dropboxusercontent.com (uce7cc3520472ecb5283cce18fd2.dl.dropboxusercontent.com)|162.125.1.15|:443... connected.\n",
            "HTTP request sent, awaiting response... 200 OK\n",
            "Length: 166670 (163K) [text/plain]\n",
            "Saving to: ‘Metro_median_sale_price_uc_SFRCondo_raw_month.csv?dl=0.2’\n",
            "\n",
            "Metro_median_sale_p 100%[===================>] 162.76K  --.-KB/s    in 0.03s   \n",
            "\n",
            "2020-07-30 18:35:57 (6.17 MB/s) - ‘Metro_median_sale_price_uc_SFRCondo_raw_month.csv?dl=0.2’ saved [166670/166670]\n",
            "\n"
          ],
          "name": "stdout"
        }
      ]
    },
    {
      "cell_type": "code",
      "metadata": {
        "id": "IDVHqOEPWGTQ",
        "colab_type": "code",
        "colab": {}
      },
      "source": [
        "#Zillow median sale price\n",
        "df = pd.read_csv('/content/Metro_median_sale_price_uc_SFRCondo_raw_month.csv?dl=0')\n",
        "df_msp = df.drop([0])\n",
        "\n",
        "#Melt data\n",
        "df_msp = pd.melt(df_msp, id_vars=[\"RegionID\", \"SizeRank\",\"RegionName\",\"RegionType\",\"StateName\"], \n",
        "                  var_name=\"Date\", value_name=\"MedianSalePrice\")\n",
        "df_msp = df_msp[df_msp['Date']>'2018']\n"
      ],
      "execution_count": 12,
      "outputs": []
    },
    {
      "cell_type": "code",
      "metadata": {
        "id": "-JWC4gtbVT82",
        "colab_type": "code",
        "colab": {}
      },
      "source": [
        "#Zillow median list price\n",
        "df = pd.read_csv('/content/Metro_mlp_uc_sfrcondo_raw_month.csv?dl=0')\n",
        "df_mlp = df.drop([0])\n",
        "\n",
        "#Melt data\n",
        "df_mlp = pd.melt(df_mlp, id_vars=[\"RegionID\", \"SizeRank\",\"RegionName\",\"RegionType\",\"StateName\"], \n",
        "                  var_name=\"Date\", value_name=\"MedianListPrice\")\n",
        "df_mlp = df_mlp[df_mlp['Date']>'2018']"
      ],
      "execution_count": 13,
      "outputs": []
    },
    {
      "cell_type": "code",
      "metadata": {
        "id": "mqRGl6ONTgAQ",
        "colab_type": "code",
        "colab": {}
      },
      "source": [
        "#Zillow For Sale Inventory\n",
        "df = pd.read_csv('/content/Metro_invt_fs_uc_sfrcondo_smoothed_month.csv?dl=0')\n",
        "df_for_sale = df.drop([0])\n",
        "\n",
        "#Melt data\n",
        "df_for_sale = pd.melt(df_for_sale, id_vars=[\"RegionID\", \"SizeRank\",\"RegionName\",\"RegionType\",\"StateName\"], \n",
        "                  var_name=\"Date\", value_name=\"ForSaleInventory\")\n",
        "df_for_sale = df_for_sale[df_for_sale['Date']>'2018']"
      ],
      "execution_count": 14,
      "outputs": []
    },
    {
      "cell_type": "code",
      "metadata": {
        "id": "n40HE-OnQ7ME",
        "colab_type": "code",
        "colab": {}
      },
      "source": [
        "#Zillow Share of listings with a Price cut\n",
        "df0 = pd.read_csv('/content/Metro_perc_listings_price_cut_uc_sfrcondo_raw_month.csv?dl=0')\n",
        "df_pc = df0.drop([0])\n",
        "df0.drop(columns=['RegionID','SizeRank','RegionType','StateName'], inplace=True)\n",
        "\n",
        "#Melt data\n",
        "df_pc = pd.melt(df_pc, id_vars=[\"RegionID\", \"SizeRank\",\"RegionName\",\"RegionType\",\"StateName\"], \n",
        "                  var_name=\"Date\", value_name=\"PercentPriceCut\")\n",
        "df_pc = df_pc[df_pc['Date']>'2018']"
      ],
      "execution_count": 15,
      "outputs": []
    },
    {
      "cell_type": "code",
      "metadata": {
        "id": "KkGPh4_LP0Ub",
        "colab_type": "code",
        "colab": {}
      },
      "source": [
        "#Zillow Mean days to Pending\n",
        "df = pd.read_csv('/content/Metro_mean_doz_pending_uc_sfrcondo_raw_monthly.csv?dl=0')\n",
        "df_mean_doz = df.drop([0])\n",
        "\n",
        "#Melt data \n",
        "df_mean_doz = pd.melt(df_mean_doz, id_vars=[\"RegionID\", \"SizeRank\",\"RegionName\",\"RegionType\",\"StateName\"], \n",
        "                  var_name=\"Date\", value_name=\"MeanDaysPending\")\n",
        "df_mean_doz = df_mean_doz[df_mean_doz['Date']>'2018']"
      ],
      "execution_count": 16,
      "outputs": []
    },
    {
      "cell_type": "code",
      "metadata": {
        "id": "sAxIDDcRUTEZ",
        "colab_type": "code",
        "colab": {}
      },
      "source": [
        "#Zillow Median days to Pending\n",
        "df = pd.read_csv('/content/Metro_med_doz_pending_uc_sfrcondo_raw_monthly.csv?dl=0')\n",
        "df_med_doz = df.drop([0])\n",
        "\n",
        "#Melt data\n",
        "df_med_doz = pd.melt(df_med_doz, id_vars=[\"RegionID\", \"SizeRank\",\"RegionName\",\"RegionType\",\"StateName\"], \n",
        "                  var_name=\"Date\", value_name=\"MedianDaysPending\")\n",
        "df_med_doz = df_med_doz[df_med_doz['Date']>'2018']"
      ],
      "execution_count": 17,
      "outputs": []
    },
    {
      "cell_type": "code",
      "metadata": {
        "id": "t-Jz9sk6NSss",
        "colab_type": "code",
        "colab": {}
      },
      "source": [
        "#Zillow Single Family Homes value forecast\n",
        "df = pd.read_csv('/content/Metro_zhvi_uc_sfr_tier_0.33_0.67_sm_sa_mon (1).csv?dl=0')\n",
        "df_sfh = df.drop([0])\n",
        "df_sfh.head()\n",
        "\n",
        "#Melt data\n",
        "df_sfh = pd.melt(df_sfh, id_vars=[\"RegionID\", \"SizeRank\",\"RegionName\",\"RegionType\",\"StateName\"], \n",
        "                  var_name=\"Date\", value_name=\"HomeValueForecast\")\n",
        "df_sfh = df_sfh[df_sfh['Date']>'2018']"
      ],
      "execution_count": 18,
      "outputs": []
    },
    {
      "cell_type": "code",
      "metadata": {
        "id": "UhZ0ojsZnKb5",
        "colab_type": "code",
        "colab": {
          "base_uri": "https://localhost:8080/",
          "height": 34
        },
        "outputId": "e72c4fbb-3ce5-4817-a5ec-33717a71172a"
      },
      "source": [
        "#Merge all imported data into a master dataset\n",
        "df_1 = pd.merge(df_sfh, df_med_doz,  on =[\"RegionID\", \"SizeRank\",\"RegionName\",\"RegionType\",\"StateName\",\"Date\"],  how ='inner')\n",
        "df_2 = pd.merge(df_1, df_mean_doz,  on =[\"RegionID\", \"SizeRank\",\"RegionName\",\"RegionType\",\"StateName\",\"Date\"],  how ='inner')\n",
        "df_3 = pd.merge(df_2, df_pc,  on =[\"RegionID\", \"SizeRank\",\"RegionName\",\"RegionType\",\"StateName\",\"Date\"],  how ='inner')\n",
        "df_4 = pd.merge(df_3, df_for_sale,  on =[\"RegionID\", \"SizeRank\",\"RegionName\",\"RegionType\",\"StateName\",\"Date\"],  how ='inner')\n",
        "df_5 = pd.merge(df_4, df_mlp,  on =[\"RegionID\", \"SizeRank\",\"RegionName\",\"RegionType\",\"StateName\",\"Date\"],  how ='inner')\n",
        "df_clean = pd.merge(df_5, df_msp,  on =[\"RegionID\", \"SizeRank\",\"RegionName\",\"RegionType\",\"StateName\",\"Date\"],  how ='inner')\n",
        "\n",
        "print(df_clean.shape)"
      ],
      "execution_count": 19,
      "outputs": [
        {
          "output_type": "stream",
          "text": [
            "(2938, 13)\n"
          ],
          "name": "stdout"
        }
      ]
    },
    {
      "cell_type": "markdown",
      "metadata": {
        "id": "5gColiKbx_7r",
        "colab_type": "text"
      },
      "source": [
        "#Wrangle"
      ]
    },
    {
      "cell_type": "code",
      "metadata": {
        "id": "llTb2SCOjMyx",
        "colab_type": "code",
        "colab": {}
      },
      "source": [
        "#Drop Repetive Features\n",
        "df_clean.drop(columns = ['RegionType','RegionName'], axis=1, inplace=True)\n",
        "\n",
        "#Drop NaNs from Target\n",
        "df_clean.dropna(subset = ['PercentPriceCut'], inplace=True)\n",
        "\n",
        "#Change Date to datetime\n",
        "df_clean['Date'] = pd.to_datetime(df_clean['Date'], format='%Y-%m-%d')\n",
        "\n",
        "#Break into month and year\n",
        "df_clean['year'] = df_clean['Date'].dt.year\n",
        "df_clean['month'] = df_clean['Date'].dt.month\n"
      ],
      "execution_count": 20,
      "outputs": []
    },
    {
      "cell_type": "code",
      "metadata": {
        "id": "vW4-kKC8tLRC",
        "colab_type": "code",
        "colab": {
          "base_uri": "https://localhost:8080/",
          "height": 173
        },
        "outputId": "2ae76d07-b6b3-41f4-d65c-5501b1d9222d"
      },
      "source": [
        "#Train/Test Split\n",
        "\n",
        "X = df_clean\n",
        "\n",
        "train = X[X['Date'] < '2019-10-01']\n",
        "test = X[X['Date'] > '2019-10-01']\n",
        "\n",
        "train, val = train_test_split(train, train_size=0.80, test_size=0.20, random_state=42)\n",
        "\n",
        "train.drop(columns = ['Date'], axis=1, inplace=True)\n",
        "val.drop(columns = ['Date'], axis=1, inplace=True)\n",
        "test.drop(columns = ['Date'], axis=1, inplace=True)\n",
        "\n",
        "print(train.shape)\n",
        "print(val.shape)\n",
        "print(test.shape)\n",
        "\n"
      ],
      "execution_count": 21,
      "outputs": [
        {
          "output_type": "stream",
          "text": [
            "(1622, 12)\n",
            "(406, 12)\n",
            "(904, 12)\n"
          ],
          "name": "stdout"
        },
        {
          "output_type": "stream",
          "text": [
            "/usr/local/lib/python3.6/dist-packages/pandas/core/frame.py:3997: SettingWithCopyWarning: \n",
            "A value is trying to be set on a copy of a slice from a DataFrame\n",
            "\n",
            "See the caveats in the documentation: https://pandas.pydata.org/pandas-docs/stable/user_guide/indexing.html#returning-a-view-versus-a-copy\n",
            "  errors=errors,\n"
          ],
          "name": "stderr"
        }
      ]
    },
    {
      "cell_type": "markdown",
      "metadata": {
        "id": "Ha1-IbP80Q0Q",
        "colab_type": "text"
      },
      "source": [
        "# Baseline Predictions"
      ]
    },
    {
      "cell_type": "code",
      "metadata": {
        "id": "2pf4TQ1g3Ztt",
        "colab_type": "code",
        "colab": {
          "base_uri": "https://localhost:8080/",
          "height": 51
        },
        "outputId": "01d0a21d-b949-400e-fff2-a9e9d089e2a6"
      },
      "source": [
        "#Take the Mean of the Price Cut answers on my Train data \n",
        "\n",
        "mean_train = train['PercentPriceCut'].mean()\n",
        "errors = mean_train - train['PercentPriceCut']\n",
        "MAE_train = errors.abs().mean()\n",
        "\n",
        "\n",
        "print(f'Train Baseline mean: {mean_train:.2f}')\n",
        "print(f'Mean Absolute Error: {MAE_train:.2f}')\n"
      ],
      "execution_count": 22,
      "outputs": [
        {
          "output_type": "stream",
          "text": [
            "Train Baseline mean: 0.18\n",
            "Mean Absolute Error: 0.03\n"
          ],
          "name": "stdout"
        }
      ]
    },
    {
      "cell_type": "code",
      "metadata": {
        "id": "YLqsTUf_i9Kn",
        "colab_type": "code",
        "colab": {}
      },
      "source": [
        "#Setting Target. Can we accurately predict the monthly price cut of a Metro Market? Regression problem\n",
        "target = 'PercentPriceCut'\n",
        "features = train.drop(columns=[target])\n",
        "\n",
        "X_train = train.drop(columns=[target])\n",
        "y_train = train[target]\n",
        "X_val = val.drop(columns=[target])\n",
        "y_val = val[target]\n",
        "X_test = test.drop(columns=[target])\n",
        "y_test = test[target]"
      ],
      "execution_count": 23,
      "outputs": []
    },
    {
      "cell_type": "code",
      "metadata": {
        "id": "xxGpj3dC61x-",
        "colab_type": "code",
        "colab": {
          "base_uri": "https://localhost:8080/",
          "height": 279
        },
        "outputId": "de0e6afd-6608-4f35-ced9-6234b9bec34f"
      },
      "source": [
        "# Lets look at the distribution of our target\n",
        "sns.distplot(y_train);"
      ],
      "execution_count": 24,
      "outputs": [
        {
          "output_type": "display_data",
          "data": {
            "image/png": "[encoded data removed]",
            "text/plain": [
              "<Figure size 432x288 with 1 Axes>"
            ]
          },
          "metadata": {
            "tags": [],
            "needs_background": "light"
          }
        }
      ]
    },
    {
      "cell_type": "markdown",
      "metadata": {
        "id": "Fq1g0ML11B0Y",
        "colab_type": "text"
      },
      "source": [
        "# Build Model(s)"
      ]
    },
    {
      "cell_type": "code",
      "metadata": {
        "id": "UvZaniCZ3kX7",
        "colab_type": "code",
        "colab": {
          "base_uri": "https://localhost:8080/",
          "height": 51
        },
        "outputId": "9ca103ff-05da-4f8f-aa36-fda0adda5c74"
      },
      "source": [
        "#RandomForestRegressor Model\n",
        "\n",
        "# Converting Categorical to numerical and filling in NaNs\n",
        "transformers = make_pipeline(\n",
        "    ce.OrdinalEncoder(), \n",
        "    SimpleImputer(strategy='median'))\n",
        "\n",
        "#Applying our transformers\n",
        "X_train_transformed = transformers.fit_transform(X_train)\n",
        "X_val_transformed = transformers.transform(X_val)\n",
        "\n",
        "# Fit on train, score on val\n",
        "#model = RandomForestRegressor(n_estimators=100, random_state=42, n_jobs=-1)\n",
        "#Tuned\n",
        "model = RandomForestRegressor(max_depth=20, n_estimators=1500, random_state=42, n_jobs=-1, max_features=0.9507143064099162)\n",
        "model.fit(X_train_transformed, y_train)\n",
        "\n",
        "y_pred = model.predict(X_val_transformed)\n",
        "\n",
        "\n",
        "print(f'MAE Val: {mean_absolute_error(y_val, y_pred):.2f}')\n",
        "print(f'R2 Val: {r2_score(y_val, y_pred):.2f}')\n",
        "\n",
        "\n"
      ],
      "execution_count": 25,
      "outputs": [
        {
          "output_type": "stream",
          "text": [
            "MAE Val: 0.01\n",
            "R2 Val: 0.82\n"
          ],
          "name": "stdout"
        }
      ]
    },
    {
      "cell_type": "code",
      "metadata": {
        "id": "HUF9uoxl5rBv",
        "colab_type": "code",
        "colab": {
          "base_uri": "https://localhost:8080/",
          "height": 51
        },
        "outputId": "e52ad7cc-f901-4ca3-8e98-028acdd21091"
      },
      "source": [
        "# Using our test data on the model\n",
        "X_test_transformed = transformers.transform(X_test)\n",
        "\n",
        "y_pred = model.predict(X_test_transformed)\n",
        "\n",
        "\n",
        "print(f'MAE Test: {mean_absolute_error(y_test, y_pred):.2f}')\n",
        "print(f'R2 Test: {r2_score(y_test, y_pred):.2f}')"
      ],
      "execution_count": 26,
      "outputs": [
        {
          "output_type": "stream",
          "text": [
            "MAE Test: 0.03\n",
            "R2 Test: 0.34\n"
          ],
          "name": "stdout"
        }
      ]
    },
    {
      "cell_type": "code",
      "metadata": {
        "id": "qReZ30H_-xhY",
        "colab_type": "code",
        "colab": {
          "base_uri": "https://localhost:8080/",
          "height": 88
        },
        "outputId": "5f61a97e-d5f2-4c4b-ebe8-76423fe60a47"
      },
      "source": [
        "#XGBoost Model\n",
        "\n",
        "# Fit on train, score on val\n",
        "#model2 = XGBRegressor(n_estimators=100, random_state=42, n_jobs=6)\n",
        "#Tuned\n",
        "model2 = XGBRegressor(max_depth = 10, n_estimators=264, random_state=42, n_jobs=6)\n",
        "model2.fit(X_train_transformed, y_train)\n",
        "\n",
        "y_pred2 = model2.predict(X_val_transformed)\n",
        "\n",
        "print(f'MAE Val: {mean_absolute_error(y_val, y_pred2):.2f}')\n",
        "#print(f'MSE Val: {mean_squared_error(y_val, y_pred2):.2f}')\n",
        "print(f'R2 Val: {r2_score(y_val, y_pred2):.2f}')"
      ],
      "execution_count": 27,
      "outputs": [
        {
          "output_type": "stream",
          "text": [
            "[18:36:09] WARNING: /workspace/src/objective/regression_obj.cu:152: reg:linear is now deprecated in favor of reg:squarederror.\n",
            "MAE Val: 0.01\n",
            "R2 Val: 0.88\n"
          ],
          "name": "stdout"
        }
      ]
    },
    {
      "cell_type": "code",
      "metadata": {
        "id": "atWUMLLU7WGk",
        "colab_type": "code",
        "colab": {
          "base_uri": "https://localhost:8080/",
          "height": 51
        },
        "outputId": "b345d042-86fa-4559-a14a-667d6505f230"
      },
      "source": [
        "# Using our test data on the model\n",
        "X_test_transformed = transformers.transform(X_test)\n",
        "\n",
        "y_pred = model2.predict(X_test_transformed)\n",
        "\n",
        "\n",
        "print(f'MAE Test: {mean_absolute_error(y_test, y_pred):.2f}')\n",
        "print(f'R2 Test: {r2_score(y_test, y_pred):.2f}')"
      ],
      "execution_count": 28,
      "outputs": [
        {
          "output_type": "stream",
          "text": [
            "MAE Test: 0.03\n",
            "R2 Test: 0.33\n"
          ],
          "name": "stdout"
        }
      ]
    },
    {
      "cell_type": "code",
      "metadata": {
        "id": "Tu1Z_i1Qpdsu",
        "colab_type": "code",
        "colab": {
          "base_uri": "https://localhost:8080/",
          "height": 51
        },
        "outputId": "0b9e5dea-0d24-4eef-b904-f9b170d744a8"
      },
      "source": [
        "#Ridge Regression Model\n",
        "\n",
        "# Fit on train, score on val\n",
        "model3 = Ridge(normalize=True, alpha=0.05)\n",
        "model3.fit(X_train_transformed, y_train)\n",
        "\n",
        "y_pred3 = model3.predict(X_val_transformed)\n",
        "\n",
        "print(f'MAE Val: {mean_absolute_error(y_val, y_pred3):.2f}')\n",
        "#print(f'MSE Val: {mean_squared_error(y_val, y_pred3):.2f}')\n",
        "print(f'R2 Val: {r2_score(y_val, y_pred3):.2f}')"
      ],
      "execution_count": 29,
      "outputs": [
        {
          "output_type": "stream",
          "text": [
            "MAE Val: 0.03\n",
            "R2 Val: 0.24\n"
          ],
          "name": "stdout"
        }
      ]
    },
    {
      "cell_type": "code",
      "metadata": {
        "id": "wpnlAxxq7aBg",
        "colab_type": "code",
        "colab": {
          "base_uri": "https://localhost:8080/",
          "height": 51
        },
        "outputId": "318fd229-a461-4091-ecfa-d85def314451"
      },
      "source": [
        "# Using our test data on the model\n",
        "X_test_transformed = transformers.transform(X_test)\n",
        "\n",
        "y_pred = model3.predict(X_test_transformed)\n",
        "\n",
        "\n",
        "print(f'MAE Test: {mean_absolute_error(y_test, y_pred):.2f}')\n",
        "print(f'R2 Test: {r2_score(y_test, y_pred):.2f}')"
      ],
      "execution_count": 30,
      "outputs": [
        {
          "output_type": "stream",
          "text": [
            "MAE Test: 0.05\n",
            "R2 Test: -1.30\n"
          ],
          "name": "stdout"
        }
      ]
    },
    {
      "cell_type": "markdown",
      "metadata": {
        "id": "xRhYM72b2pu1",
        "colab_type": "text"
      },
      "source": [
        "# Communicate Results"
      ]
    },
    {
      "cell_type": "code",
      "metadata": {
        "id": "mtyj72Sd_XiY",
        "colab_type": "code",
        "colab": {
          "base_uri": "https://localhost:8080/",
          "height": 221
        },
        "outputId": "5c979ba5-64a0-42c6-b4bc-bb64f5f9a409"
      },
      "source": [
        "#RandomForest Permutation\n",
        "permuter = PermutationImportance(\n",
        "    model,\n",
        "    n_iter=5,\n",
        "    random_state=42\n",
        ")\n",
        "\n",
        "permuter.fit(X_val_transformed, y_val)\n",
        "\n",
        "#Print Results\n",
        "eli5.show_weights(\n",
        "    permuter,\n",
        "    top=None,\n",
        "    feature_names=X_val.columns.tolist()\n",
        ")\n"
      ],
      "execution_count": 31,
      "outputs": [
        {
          "output_type": "execute_result",
          "data": {
            "text/html": [
              "\n",
              "    <style>\n",
              "    table.eli5-weights tr:hover {\n",
              "        filter: brightness(85%);\n",
              "    }\n",
              "</style>\n",
              "\n",
              "\n",
              "\n",
              "    \n",
              "\n",
              "    \n",
              "\n",
              "    \n",
              "\n",
              "    \n",
              "\n",
              "    \n",
              "\n",
              "    \n",
              "\n",
              "\n",
              "    \n",
              "\n",
              "    \n",
              "\n",
              "    \n",
              "\n",
              "    \n",
              "\n",
              "    \n",
              "\n",
              "    \n",
              "\n",
              "\n",
              "    \n",
              "\n",
              "    \n",
              "\n",
              "    \n",
              "\n",
              "    \n",
              "\n",
              "    \n",
              "        <table class=\"eli5-weights eli5-feature-importances\" style=\"border-collapse: collapse; border: none; margin-top: 0em; table-layout: auto;\">\n",
              "    <thead>\n",
              "    <tr style=\"border: none;\">\n",
              "        <th style=\"padding: 0 1em 0 0.5em; text-align: right; border: none;\">Weight</th>\n",
              "        <th style=\"padding: 0 0.5em 0 0.5em; text-align: left; border: none;\">Feature</th>\n",
              "    </tr>\n",
              "    </thead>\n",
              "    <tbody>\n",
              "    \n",
              "        <tr style=\"background-color: hsl(120, 100.00%, 80.00%); border: none;\">\n",
              "            <td style=\"padding: 0 1em 0 0.5em; text-align: right; border: none;\">\n",
              "                0.6435\n",
              "                \n",
              "                    &plusmn; 0.0969\n",
              "                \n",
              "            </td>\n",
              "            <td style=\"padding: 0 0.5em 0 0.5em; text-align: left; border: none;\">\n",
              "                month\n",
              "            </td>\n",
              "        </tr>\n",
              "    \n",
              "        <tr style=\"background-color: hsl(120, 100.00%, 92.09%); border: none;\">\n",
              "            <td style=\"padding: 0 1em 0 0.5em; text-align: right; border: none;\">\n",
              "                0.1710\n",
              "                \n",
              "                    &plusmn; 0.0125\n",
              "                \n",
              "            </td>\n",
              "            <td style=\"padding: 0 0.5em 0 0.5em; text-align: left; border: none;\">\n",
              "                ForSaleInventory\n",
              "            </td>\n",
              "        </tr>\n",
              "    \n",
              "        <tr style=\"background-color: hsl(120, 100.00%, 92.55%); border: none;\">\n",
              "            <td style=\"padding: 0 1em 0 0.5em; text-align: right; border: none;\">\n",
              "                0.1570\n",
              "                \n",
              "                    &plusmn; 0.0230\n",
              "                \n",
              "            </td>\n",
              "            <td style=\"padding: 0 0.5em 0 0.5em; text-align: left; border: none;\">\n",
              "                HomeValueForecast\n",
              "            </td>\n",
              "        </tr>\n",
              "    \n",
              "        <tr style=\"background-color: hsl(120, 100.00%, 93.11%); border: none;\">\n",
              "            <td style=\"padding: 0 1em 0 0.5em; text-align: right; border: none;\">\n",
              "                0.1405\n",
              "                \n",
              "                    &plusmn; 0.0229\n",
              "                \n",
              "            </td>\n",
              "            <td style=\"padding: 0 0.5em 0 0.5em; text-align: left; border: none;\">\n",
              "                SizeRank\n",
              "            </td>\n",
              "        </tr>\n",
              "    \n",
              "        <tr style=\"background-color: hsl(120, 100.00%, 95.17%); border: none;\">\n",
              "            <td style=\"padding: 0 1em 0 0.5em; text-align: right; border: none;\">\n",
              "                0.0846\n",
              "                \n",
              "                    &plusmn; 0.0203\n",
              "                \n",
              "            </td>\n",
              "            <td style=\"padding: 0 0.5em 0 0.5em; text-align: left; border: none;\">\n",
              "                StateName\n",
              "            </td>\n",
              "        </tr>\n",
              "    \n",
              "        <tr style=\"background-color: hsl(120, 100.00%, 95.73%); border: none;\">\n",
              "            <td style=\"padding: 0 1em 0 0.5em; text-align: right; border: none;\">\n",
              "                0.0708\n",
              "                \n",
              "                    &plusmn; 0.0107\n",
              "                \n",
              "            </td>\n",
              "            <td style=\"padding: 0 0.5em 0 0.5em; text-align: left; border: none;\">\n",
              "                RegionID\n",
              "            </td>\n",
              "        </tr>\n",
              "    \n",
              "        <tr style=\"background-color: hsl(120, 100.00%, 96.54%); border: none;\">\n",
              "            <td style=\"padding: 0 1em 0 0.5em; text-align: right; border: none;\">\n",
              "                0.0525\n",
              "                \n",
              "                    &plusmn; 0.0176\n",
              "                \n",
              "            </td>\n",
              "            <td style=\"padding: 0 0.5em 0 0.5em; text-align: left; border: none;\">\n",
              "                MeanDaysPending\n",
              "            </td>\n",
              "        </tr>\n",
              "    \n",
              "        <tr style=\"background-color: hsl(120, 100.00%, 97.28%); border: none;\">\n",
              "            <td style=\"padding: 0 1em 0 0.5em; text-align: right; border: none;\">\n",
              "                0.0371\n",
              "                \n",
              "                    &plusmn; 0.0076\n",
              "                \n",
              "            </td>\n",
              "            <td style=\"padding: 0 0.5em 0 0.5em; text-align: left; border: none;\">\n",
              "                MedianDaysPending\n",
              "            </td>\n",
              "        </tr>\n",
              "    \n",
              "        <tr style=\"background-color: hsl(120, 100.00%, 97.42%); border: none;\">\n",
              "            <td style=\"padding: 0 1em 0 0.5em; text-align: right; border: none;\">\n",
              "                0.0346\n",
              "                \n",
              "                    &plusmn; 0.0030\n",
              "                \n",
              "            </td>\n",
              "            <td style=\"padding: 0 0.5em 0 0.5em; text-align: left; border: none;\">\n",
              "                MedianListPrice\n",
              "            </td>\n",
              "        </tr>\n",
              "    \n",
              "        <tr style=\"background-color: hsl(120, 100.00%, 98.07%); border: none;\">\n",
              "            <td style=\"padding: 0 1em 0 0.5em; text-align: right; border: none;\">\n",
              "                0.0229\n",
              "                \n",
              "                    &plusmn; 0.0051\n",
              "                \n",
              "            </td>\n",
              "            <td style=\"padding: 0 0.5em 0 0.5em; text-align: left; border: none;\">\n",
              "                MedianSalePrice\n",
              "            </td>\n",
              "        </tr>\n",
              "    \n",
              "        <tr style=\"background-color: hsl(120, 100.00%, 98.96%); border: none;\">\n",
              "            <td style=\"padding: 0 1em 0 0.5em; text-align: right; border: none;\">\n",
              "                0.0094\n",
              "                \n",
              "                    &plusmn; 0.0066\n",
              "                \n",
              "            </td>\n",
              "            <td style=\"padding: 0 0.5em 0 0.5em; text-align: left; border: none;\">\n",
              "                year\n",
              "            </td>\n",
              "        </tr>\n",
              "    \n",
              "    \n",
              "    </tbody>\n",
              "</table>\n",
              "    \n",
              "\n",
              "    \n",
              "\n",
              "\n",
              "    \n",
              "\n",
              "    \n",
              "\n",
              "    \n",
              "\n",
              "    \n",
              "\n",
              "    \n",
              "\n",
              "    \n",
              "\n",
              "\n",
              "\n"
            ],
            "text/plain": [
              "<IPython.core.display.HTML object>"
            ]
          },
          "metadata": {
            "tags": []
          },
          "execution_count": 31
        }
      ]
    },
    {
      "cell_type": "code",
      "metadata": {
        "id": "XK8CaLqWBpEn",
        "colab_type": "code",
        "colab": {
          "base_uri": "https://localhost:8080/",
          "height": 221
        },
        "outputId": "f7df5d28-6265-4035-e566-6b824bcf3b6f"
      },
      "source": [
        "# XGBoost Permutation\n",
        "permuter = PermutationImportance(\n",
        "    model2,\n",
        "    n_iter=5,\n",
        "    random_state=42\n",
        ")\n",
        "\n",
        "permuter.fit(X_val_transformed, y_val)\n",
        "\n",
        "#Print Results\n",
        "eli5.show_weights(\n",
        "    permuter,\n",
        "    top=None,\n",
        "    feature_names=X_val.columns.tolist()\n",
        ")"
      ],
      "execution_count": 32,
      "outputs": [
        {
          "output_type": "execute_result",
          "data": {
            "text/html": [
              "\n",
              "    <style>\n",
              "    table.eli5-weights tr:hover {\n",
              "        filter: brightness(85%);\n",
              "    }\n",
              "</style>\n",
              "\n",
              "\n",
              "\n",
              "    \n",
              "\n",
              "    \n",
              "\n",
              "    \n",
              "\n",
              "    \n",
              "\n",
              "    \n",
              "\n",
              "    \n",
              "\n",
              "\n",
              "    \n",
              "\n",
              "    \n",
              "\n",
              "    \n",
              "\n",
              "    \n",
              "\n",
              "    \n",
              "\n",
              "    \n",
              "\n",
              "\n",
              "    \n",
              "\n",
              "    \n",
              "\n",
              "    \n",
              "\n",
              "    \n",
              "\n",
              "    \n",
              "        <table class=\"eli5-weights eli5-feature-importances\" style=\"border-collapse: collapse; border: none; margin-top: 0em; table-layout: auto;\">\n",
              "    <thead>\n",
              "    <tr style=\"border: none;\">\n",
              "        <th style=\"padding: 0 1em 0 0.5em; text-align: right; border: none;\">Weight</th>\n",
              "        <th style=\"padding: 0 0.5em 0 0.5em; text-align: left; border: none;\">Feature</th>\n",
              "    </tr>\n",
              "    </thead>\n",
              "    <tbody>\n",
              "    \n",
              "        <tr style=\"background-color: hsl(120, 100.00%, 80.00%); border: none;\">\n",
              "            <td style=\"padding: 0 1em 0 0.5em; text-align: right; border: none;\">\n",
              "                0.6973\n",
              "                \n",
              "                    &plusmn; 0.0924\n",
              "                \n",
              "            </td>\n",
              "            <td style=\"padding: 0 0.5em 0 0.5em; text-align: left; border: none;\">\n",
              "                month\n",
              "            </td>\n",
              "        </tr>\n",
              "    \n",
              "        <tr style=\"background-color: hsl(120, 100.00%, 90.31%); border: none;\">\n",
              "            <td style=\"padding: 0 1em 0 0.5em; text-align: right; border: none;\">\n",
              "                0.2476\n",
              "                \n",
              "                    &plusmn; 0.0354\n",
              "                \n",
              "            </td>\n",
              "            <td style=\"padding: 0 0.5em 0 0.5em; text-align: left; border: none;\">\n",
              "                ForSaleInventory\n",
              "            </td>\n",
              "        </tr>\n",
              "    \n",
              "        <tr style=\"background-color: hsl(120, 100.00%, 91.81%); border: none;\">\n",
              "            <td style=\"padding: 0 1em 0 0.5em; text-align: right; border: none;\">\n",
              "                0.1947\n",
              "                \n",
              "                    &plusmn; 0.0248\n",
              "                \n",
              "            </td>\n",
              "            <td style=\"padding: 0 0.5em 0 0.5em; text-align: left; border: none;\">\n",
              "                HomeValueForecast\n",
              "            </td>\n",
              "        </tr>\n",
              "    \n",
              "        <tr style=\"background-color: hsl(120, 100.00%, 91.98%); border: none;\">\n",
              "            <td style=\"padding: 0 1em 0 0.5em; text-align: right; border: none;\">\n",
              "                0.1889\n",
              "                \n",
              "                    &plusmn; 0.0324\n",
              "                \n",
              "            </td>\n",
              "            <td style=\"padding: 0 0.5em 0 0.5em; text-align: left; border: none;\">\n",
              "                SizeRank\n",
              "            </td>\n",
              "        </tr>\n",
              "    \n",
              "        <tr style=\"background-color: hsl(120, 100.00%, 95.72%); border: none;\">\n",
              "            <td style=\"padding: 0 1em 0 0.5em; text-align: right; border: none;\">\n",
              "                0.0770\n",
              "                \n",
              "                    &plusmn; 0.0217\n",
              "                \n",
              "            </td>\n",
              "            <td style=\"padding: 0 0.5em 0 0.5em; text-align: left; border: none;\">\n",
              "                StateName\n",
              "            </td>\n",
              "        </tr>\n",
              "    \n",
              "        <tr style=\"background-color: hsl(120, 100.00%, 95.76%); border: none;\">\n",
              "            <td style=\"padding: 0 1em 0 0.5em; text-align: right; border: none;\">\n",
              "                0.0762\n",
              "                \n",
              "                    &plusmn; 0.0171\n",
              "                \n",
              "            </td>\n",
              "            <td style=\"padding: 0 0.5em 0 0.5em; text-align: left; border: none;\">\n",
              "                RegionID\n",
              "            </td>\n",
              "        </tr>\n",
              "    \n",
              "        <tr style=\"background-color: hsl(120, 100.00%, 95.79%); border: none;\">\n",
              "            <td style=\"padding: 0 1em 0 0.5em; text-align: right; border: none;\">\n",
              "                0.0752\n",
              "                \n",
              "                    &plusmn; 0.0114\n",
              "                \n",
              "            </td>\n",
              "            <td style=\"padding: 0 0.5em 0 0.5em; text-align: left; border: none;\">\n",
              "                MeanDaysPending\n",
              "            </td>\n",
              "        </tr>\n",
              "    \n",
              "        <tr style=\"background-color: hsl(120, 100.00%, 97.59%); border: none;\">\n",
              "            <td style=\"padding: 0 1em 0 0.5em; text-align: right; border: none;\">\n",
              "                0.0339\n",
              "                \n",
              "                    &plusmn; 0.0052\n",
              "                \n",
              "            </td>\n",
              "            <td style=\"padding: 0 0.5em 0 0.5em; text-align: left; border: none;\">\n",
              "                MedianListPrice\n",
              "            </td>\n",
              "        </tr>\n",
              "    \n",
              "        <tr style=\"background-color: hsl(120, 100.00%, 97.99%); border: none;\">\n",
              "            <td style=\"padding: 0 1em 0 0.5em; text-align: right; border: none;\">\n",
              "                0.0262\n",
              "                \n",
              "                    &plusmn; 0.0062\n",
              "                \n",
              "            </td>\n",
              "            <td style=\"padding: 0 0.5em 0 0.5em; text-align: left; border: none;\">\n",
              "                year\n",
              "            </td>\n",
              "        </tr>\n",
              "    \n",
              "        <tr style=\"background-color: hsl(120, 100.00%, 98.08%); border: none;\">\n",
              "            <td style=\"padding: 0 1em 0 0.5em; text-align: right; border: none;\">\n",
              "                0.0246\n",
              "                \n",
              "                    &plusmn; 0.0107\n",
              "                \n",
              "            </td>\n",
              "            <td style=\"padding: 0 0.5em 0 0.5em; text-align: left; border: none;\">\n",
              "                MedianDaysPending\n",
              "            </td>\n",
              "        </tr>\n",
              "    \n",
              "        <tr style=\"background-color: hsl(120, 100.00%, 98.74%); border: none;\">\n",
              "            <td style=\"padding: 0 1em 0 0.5em; text-align: right; border: none;\">\n",
              "                0.0134\n",
              "                \n",
              "                    &plusmn; 0.0050\n",
              "                \n",
              "            </td>\n",
              "            <td style=\"padding: 0 0.5em 0 0.5em; text-align: left; border: none;\">\n",
              "                MedianSalePrice\n",
              "            </td>\n",
              "        </tr>\n",
              "    \n",
              "    \n",
              "    </tbody>\n",
              "</table>\n",
              "    \n",
              "\n",
              "    \n",
              "\n",
              "\n",
              "    \n",
              "\n",
              "    \n",
              "\n",
              "    \n",
              "\n",
              "    \n",
              "\n",
              "    \n",
              "\n",
              "    \n",
              "\n",
              "\n",
              "\n"
            ],
            "text/plain": [
              "<IPython.core.display.HTML object>"
            ]
          },
          "metadata": {
            "tags": []
          },
          "execution_count": 32
        }
      ]
    },
    {
      "cell_type": "code",
      "metadata": {
        "id": "GLEvGqyUqcKj",
        "colab_type": "code",
        "colab": {
          "base_uri": "https://localhost:8080/",
          "height": 221
        },
        "outputId": "39f39f99-34c6-47ec-e6bf-17c5cb534a73"
      },
      "source": [
        "#Ridge Regression Permutation\n",
        "\n",
        "permuter = PermutationImportance(\n",
        "    model3,\n",
        "    n_iter=5,\n",
        "    random_state=42\n",
        ")\n",
        "\n",
        "permuter.fit(X_val_transformed, y_val)\n",
        "\n",
        "#Print Results\n",
        "eli5.show_weights(\n",
        "    permuter,\n",
        "    top=None,\n",
        "    feature_names=X_val.columns.tolist()\n",
        ")"
      ],
      "execution_count": 33,
      "outputs": [
        {
          "output_type": "execute_result",
          "data": {
            "text/html": [
              "\n",
              "    <style>\n",
              "    table.eli5-weights tr:hover {\n",
              "        filter: brightness(85%);\n",
              "    }\n",
              "</style>\n",
              "\n",
              "\n",
              "\n",
              "    \n",
              "\n",
              "    \n",
              "\n",
              "    \n",
              "\n",
              "    \n",
              "\n",
              "    \n",
              "\n",
              "    \n",
              "\n",
              "\n",
              "    \n",
              "\n",
              "    \n",
              "\n",
              "    \n",
              "\n",
              "    \n",
              "\n",
              "    \n",
              "\n",
              "    \n",
              "\n",
              "\n",
              "    \n",
              "\n",
              "    \n",
              "\n",
              "    \n",
              "\n",
              "    \n",
              "\n",
              "    \n",
              "        <table class=\"eli5-weights eli5-feature-importances\" style=\"border-collapse: collapse; border: none; margin-top: 0em; table-layout: auto;\">\n",
              "    <thead>\n",
              "    <tr style=\"border: none;\">\n",
              "        <th style=\"padding: 0 1em 0 0.5em; text-align: right; border: none;\">Weight</th>\n",
              "        <th style=\"padding: 0 0.5em 0 0.5em; text-align: left; border: none;\">Feature</th>\n",
              "    </tr>\n",
              "    </thead>\n",
              "    <tbody>\n",
              "    \n",
              "        <tr style=\"background-color: hsl(120, 100.00%, 80.00%); border: none;\">\n",
              "            <td style=\"padding: 0 1em 0 0.5em; text-align: right; border: none;\">\n",
              "                0.2625\n",
              "                \n",
              "                    &plusmn; 0.0394\n",
              "                \n",
              "            </td>\n",
              "            <td style=\"padding: 0 0.5em 0 0.5em; text-align: left; border: none;\">\n",
              "                MeanDaysPending\n",
              "            </td>\n",
              "        </tr>\n",
              "    \n",
              "        <tr style=\"background-color: hsl(120, 100.00%, 87.92%); border: none;\">\n",
              "            <td style=\"padding: 0 1em 0 0.5em; text-align: right; border: none;\">\n",
              "                0.1277\n",
              "                \n",
              "                    &plusmn; 0.0359\n",
              "                \n",
              "            </td>\n",
              "            <td style=\"padding: 0 0.5em 0 0.5em; text-align: left; border: none;\">\n",
              "                month\n",
              "            </td>\n",
              "        </tr>\n",
              "    \n",
              "        <tr style=\"background-color: hsl(120, 100.00%, 90.67%); border: none;\">\n",
              "            <td style=\"padding: 0 1em 0 0.5em; text-align: right; border: none;\">\n",
              "                0.0883\n",
              "                \n",
              "                    &plusmn; 0.0378\n",
              "                \n",
              "            </td>\n",
              "            <td style=\"padding: 0 0.5em 0 0.5em; text-align: left; border: none;\">\n",
              "                HomeValueForecast\n",
              "            </td>\n",
              "        </tr>\n",
              "    \n",
              "        <tr style=\"background-color: hsl(120, 100.00%, 92.68%); border: none;\">\n",
              "            <td style=\"padding: 0 1em 0 0.5em; text-align: right; border: none;\">\n",
              "                0.0625\n",
              "                \n",
              "                    &plusmn; 0.0232\n",
              "                \n",
              "            </td>\n",
              "            <td style=\"padding: 0 0.5em 0 0.5em; text-align: left; border: none;\">\n",
              "                SizeRank\n",
              "            </td>\n",
              "        </tr>\n",
              "    \n",
              "        <tr style=\"background-color: hsl(120, 100.00%, 94.10%); border: none;\">\n",
              "            <td style=\"padding: 0 1em 0 0.5em; text-align: right; border: none;\">\n",
              "                0.0459\n",
              "                \n",
              "                    &plusmn; 0.0253\n",
              "                \n",
              "            </td>\n",
              "            <td style=\"padding: 0 0.5em 0 0.5em; text-align: left; border: none;\">\n",
              "                MedianSalePrice\n",
              "            </td>\n",
              "        </tr>\n",
              "    \n",
              "        <tr style=\"background-color: hsl(120, 100.00%, 95.06%); border: none;\">\n",
              "            <td style=\"padding: 0 1em 0 0.5em; text-align: right; border: none;\">\n",
              "                0.0356\n",
              "                \n",
              "                    &plusmn; 0.0167\n",
              "                \n",
              "            </td>\n",
              "            <td style=\"padding: 0 0.5em 0 0.5em; text-align: left; border: none;\">\n",
              "                year\n",
              "            </td>\n",
              "        </tr>\n",
              "    \n",
              "        <tr style=\"background-color: hsl(120, 100.00%, 95.57%); border: none;\">\n",
              "            <td style=\"padding: 0 1em 0 0.5em; text-align: right; border: none;\">\n",
              "                0.0305\n",
              "                \n",
              "                    &plusmn; 0.0135\n",
              "                \n",
              "            </td>\n",
              "            <td style=\"padding: 0 0.5em 0 0.5em; text-align: left; border: none;\">\n",
              "                ForSaleInventory\n",
              "            </td>\n",
              "        </tr>\n",
              "    \n",
              "        <tr style=\"background-color: hsl(120, 100.00%, 96.12%); border: none;\">\n",
              "            <td style=\"padding: 0 1em 0 0.5em; text-align: right; border: none;\">\n",
              "                0.0252\n",
              "                \n",
              "                    &plusmn; 0.0187\n",
              "                \n",
              "            </td>\n",
              "            <td style=\"padding: 0 0.5em 0 0.5em; text-align: left; border: none;\">\n",
              "                MedianListPrice\n",
              "            </td>\n",
              "        </tr>\n",
              "    \n",
              "        <tr style=\"background-color: hsl(120, 100.00%, 99.09%); border: none;\">\n",
              "            <td style=\"padding: 0 1em 0 0.5em; text-align: right; border: none;\">\n",
              "                0.0032\n",
              "                \n",
              "                    &plusmn; 0.0049\n",
              "                \n",
              "            </td>\n",
              "            <td style=\"padding: 0 0.5em 0 0.5em; text-align: left; border: none;\">\n",
              "                MedianDaysPending\n",
              "            </td>\n",
              "        </tr>\n",
              "    \n",
              "        <tr style=\"background-color: hsl(120, 100.00%, 99.58%); border: none;\">\n",
              "            <td style=\"padding: 0 1em 0 0.5em; text-align: right; border: none;\">\n",
              "                0.0011\n",
              "                \n",
              "                    &plusmn; 0.0028\n",
              "                \n",
              "            </td>\n",
              "            <td style=\"padding: 0 0.5em 0 0.5em; text-align: left; border: none;\">\n",
              "                RegionID\n",
              "            </td>\n",
              "        </tr>\n",
              "    \n",
              "        <tr style=\"background-color: hsl(120, 100.00%, 99.83%); border: none;\">\n",
              "            <td style=\"padding: 0 1em 0 0.5em; text-align: right; border: none;\">\n",
              "                0.0003\n",
              "                \n",
              "                    &plusmn; 0.0003\n",
              "                \n",
              "            </td>\n",
              "            <td style=\"padding: 0 0.5em 0 0.5em; text-align: left; border: none;\">\n",
              "                StateName\n",
              "            </td>\n",
              "        </tr>\n",
              "    \n",
              "    \n",
              "    </tbody>\n",
              "</table>\n",
              "    \n",
              "\n",
              "    \n",
              "\n",
              "\n",
              "    \n",
              "\n",
              "    \n",
              "\n",
              "    \n",
              "\n",
              "    \n",
              "\n",
              "    \n",
              "\n",
              "    \n",
              "\n",
              "\n",
              "\n"
            ],
            "text/plain": [
              "<IPython.core.display.HTML object>"
            ]
          },
          "metadata": {
            "tags": []
          },
          "execution_count": 33
        }
      ]
    },
    {
      "cell_type": "code",
      "metadata": {
        "id": "Rvtol2RncuIs",
        "colab_type": "code",
        "colab": {
          "base_uri": "https://localhost:8080/",
          "height": 269
        },
        "outputId": "c31562d9-90c8-4254-ba5c-3e91d2053df2"
      },
      "source": [
        "#Creating a Multi Line Chart to visualize target data\n",
        "\n",
        "\n",
        "columns = ['RegionName',\n",
        " 'United States',\n",
        " 'New York, NY',\n",
        " 'Boston, MA',\n",
        " 'Chicago, IL',\n",
        " 'Seattle, WA',\n",
        " 'Philadelphia, PA',\n",
        " 'Houston, TX',\n",
        " 'Washington, DC',\n",
        " 'San Francisco, CA',\n",
        " 'Phoenix, AZ'\n",
        " ]\n",
        "\n",
        "columns_drop = ['Dallas-Fort Worth, TX','Atlanta, GA',\n",
        " 'Los Angeles-Long Beach-Anaheim, CA',\n",
        " 'Miami-Fort Lauderdale, FL',\n",
        " 'Detroit, MI',\n",
        " 'Riverside, CA',\n",
        " 'Seattle, WA',\n",
        " 'Minneapolis-St Paul, MN',\n",
        " 'San Diego, CA',\n",
        " 'St. Louis, MO',\n",
        " 'Tampa, FL',\n",
        " 'Baltimore, MD',\n",
        " 'Denver, CO',\n",
        " 'Pittsburgh, PA',\n",
        " 'Portland, OR',\n",
        " 'Charlotte, NC',\n",
        " 'Sacramento, CA',\n",
        " 'San Antonio, TX',\n",
        " 'Orlando, FL',\n",
        " 'Cincinnati, OH',\n",
        " 'Cleveland, OH',\n",
        " 'Kansas City, MO',\n",
        " 'Las Vegas, NV',\n",
        " 'Columbus, OH',\n",
        " 'Indianapolis, IN',\n",
        " 'San Jose, CA',\n",
        " 'Austin, TX',\n",
        " 'Virginia Beach, VA',\n",
        " 'Nashville, TN',\n",
        " 'Providence, RI',\n",
        " 'Milwaukee, WI',\n",
        " 'Jacksonville, FL',\n",
        " 'Memphis, TN',\n",
        " 'Oklahoma City, OK',\n",
        " 'Louisville-Jefferson County, KY',\n",
        " 'Hartford, CT',\n",
        " 'Richmond, VA',\n",
        " 'New Orleans, LA',\n",
        " 'Buffalo, NY',\n",
        " 'Raleigh, NC',\n",
        " 'Birmingham, AL',\n",
        " 'Salt Lake City, UT',\n",
        " 'Rochester, NY',\n",
        " 'Grand Rapids, MI',\n",
        " 'Tucson, AZ',\n",
        " 'Urban Honolulu, HI',\n",
        " 'Tulsa, OK',\n",
        " 'Fresno, CA',\n",
        " 'Worcester, MA',\n",
        " 'Stamford, CT',\n",
        " 'Albuquerque, NM',\n",
        " 'Albany, NY',\n",
        " 'Omaha, NE',\n",
        " 'New Haven, CT',\n",
        " 'Bakersfield, CA',\n",
        " 'Knoxville, TN',\n",
        " 'Greenville, SC',\n",
        " 'Ventura, CA',\n",
        " 'Allentown, PA',\n",
        " 'El Paso, TX',\n",
        " 'Baton Rouge, LA',\n",
        " 'Dayton, OH',\n",
        " 'McAllen, TX',\n",
        " 'Columbia, SC',\n",
        " 'Greensboro, NC',\n",
        " 'Akron, OH',\n",
        " 'North Port-Sarasota-Bradenton, FL',\n",
        " 'Little Rock, AR',\n",
        " 'Stockton, CA',\n",
        " 'Charleston, SC',\n",
        " 'Syracuse, NY',\n",
        " 'Colorado Springs, CO',\n",
        " 'Winston-Salem, NC',\n",
        " 'Wichita, KS',\n",
        " 'Springfield, MA',\n",
        " 'Fort Myers, FL',\n",
        " 'Boise City, ID',\n",
        " 'Toledo, OH',\n",
        " 'Madison, WI',\n",
        " 'Lakeland, FL',\n",
        " 'Ogden, UT',\n",
        " 'Daytona Beach, FL',\n",
        " 'Des Moines, IA',\n",
        " 'Jackson, MS',\n",
        " 'Augusta, GA',\n",
        " 'Harrisburg, PA',\n",
        " 'Provo, UT',\n",
        " 'Durham, NC',\n",
        " 'Port St. Lucie, FL',\n",
        " 'Vallejo, CA',\n",
        " 'Killeen, TX',\n",
        " 'Salem, OR',\n",
        " 'Ocala, FL',\n",
        " 'Fort Collins, CO',\n",
        " 'Boulder, CO',\n",
        " 'Clarksville, TN',\n",
        " 'Greeley, CO',\n",
        " 'Macon-Bibb County, GA',\n",
        " 'Athens, GA',\n",
        " 'Gainesville, GA',\n",
        " 'Yuba City, CA',\n",
        " 'Punta Gorda, FL',\n",
        " 'Pueblo, CO',\n",
        " 'Sherman, TX',\n",
        " 'Dunn, NC',\n",
        " 'Truckee, CA',\n",
        " 'The Villages, FL',\n",
        " 'Faribault, MN',\n",
        " 'Albemarle, NC',\n",
        " 'Kerrville, TX',\n",
        " 'Shelbyville, TN',\n",
        " 'Wilmington, OH']\n",
        "\n",
        "dft=df0.T.reset_index()\n",
        "\n",
        "dft.columns = dft.iloc[0]\n",
        "dft = dft.drop(dft.index[0])\n",
        "\n",
        "dft0 = dft.drop(columns=columns_drop)\n",
        "\n",
        "# Initialize the figure\n",
        "plt.style.use('seaborn-darkgrid')\n",
        " \n",
        "# create a color palette\n",
        "palette = plt.get_cmap('plasma')\n",
        " \n",
        "# multiple line plot\n",
        "num=0\n",
        "for column in dft0.drop('RegionName', axis=1):\n",
        "    num+=1\n",
        " \n",
        "    # Find the right spot on the plot\n",
        "    plt.subplot(3,3, num)\n",
        " \n",
        "    # plot every groups, but discreet\n",
        "    for v in dft0.drop('RegionName', axis=1):\n",
        "        plt.plot(dft0['RegionName'], dft[v], marker='', color='grey', linewidth=0.8, alpha=0.5)\n",
        " \n",
        "    # Plot the lineplot\n",
        "    plt.plot(dft0['RegionName'], dft0[column], marker='', color=palette(num), linewidth=2.4, alpha=0.9, label=column)\n",
        " \n",
        "    # Same limits for everybody!\n",
        "    plt.xlim(0,28)\n",
        "    plt.ylim(0,.5)\n",
        "\n",
        "    ax = plt.gca()\n",
        "    ax.axes.xaxis.set_visible(False)\n",
        "    ax.axes.yaxis.set_visible(True)\n",
        " \n",
        "    # Not ticks everywhere\n",
        "    if num in range(7) :\n",
        "      plt.tick_params(labelbottom='off')\n",
        "    if num not in [1,4,7] :\n",
        "      plt.tick_params(labelleft='off')\n",
        " \n",
        "    # Add title\n",
        "    plt.title(column, loc='left', fontsize=12, fontweight=0, color=palette(num) )\n",
        " \n",
        "# general title\n",
        "#plt.suptitle(\"Monthly Price Cut by Metro\", fontsize=13, fontweight=0, color='black', style='italic', y=1.02)\n",
        "\n",
        "\n",
        "plt.savefig('metrocuts.png', transparent=False, dpi=300)\n",
        "plt.show();\n"
      ],
      "execution_count": 34,
      "outputs": [
        {
          "output_type": "display_data",
          "data": {
            "image/png": "[encoded data removed]",
            "text/plain": [
              "<Figure size 432x288 with 9 Axes>"
            ]
          },
          "metadata": {
            "tags": []
          }
        }
      ]
    },
    {
      "cell_type": "code",
      "metadata": {
        "id": "JimfijUFGfC6",
        "colab_type": "code",
        "colab": {}
      },
      "source": [
        "# Partial Dependency\n",
        "#Creating a replica pipeline due to transforming outside of the pipeline in previous instance\n",
        "\n",
        "rf = make_pipeline(\n",
        "    ce.OrdinalEncoder(), \n",
        "    SimpleImputer(strategy='median'),\n",
        "    RandomForestRegressor(n_estimators=1500, random_state=42, n_jobs=-1, max_features=3)\n",
        ")\n",
        "\n",
        "rf.fit(X_train, y_train)\n",
        "y_pred = rf.predict(X_val)"
      ],
      "execution_count": 35,
      "outputs": []
    },
    {
      "cell_type": "code",
      "metadata": {
        "id": "c1KA3xdECrtX",
        "colab_type": "code",
        "colab": {
          "base_uri": "https://localhost:8080/",
          "height": 643
        },
        "outputId": "2be8c8d6-2874-4fcf-e016-12bf6bb5c983"
      },
      "source": [
        "#PDP\n",
        "from pdpbox.pdp import pdp_isolate, pdp_plot\n",
        "\n",
        "plt.rcParams['figure.dpi'] = 72\n",
        "\n",
        "feature = 'month'\n",
        "\n",
        "isolated = pdp_isolate(\n",
        "    model=rf,\n",
        "    dataset=X_val,\n",
        "    model_features=X_val.columns,\n",
        "    feature=feature\n",
        ")\n",
        "\n",
        "pdp_plot(isolated, feature_name=feature, plot_lines=True);"
      ],
      "execution_count": 36,
      "outputs": [
        {
          "output_type": "stream",
          "text": [
            "findfont: Font family ['Arial'] not found. Falling back to DejaVu Sans.\n",
            "findfont: Font family ['Arial'] not found. Falling back to DejaVu Sans.\n",
            "findfont: Font family ['Arial'] not found. Falling back to DejaVu Sans.\n",
            "findfont: Font family ['Arial'] not found. Falling back to DejaVu Sans.\n"
          ],
          "name": "stderr"
        },
        {
          "output_type": "display_data",
          "data": {
            "image/png": "[encoded data removed]",
            "text/plain": [
              "<Figure size 1080x684 with 2 Axes>"
            ]
          },
          "metadata": {
            "tags": []
          }
        }
      ]
    },
    {
      "cell_type": "markdown",
      "metadata": {
        "id": "vnkKJ3hL36Uv",
        "colab_type": "text"
      },
      "source": [
        "# Tuning"
      ]
    },
    {
      "cell_type": "code",
      "metadata": {
        "id": "Zwqd7VjfkUZ_",
        "colab_type": "code",
        "colab": {
          "base_uri": "https://localhost:8080/",
          "height": 119
        },
        "outputId": "cb6de184-6d2a-4541-cefa-134961495a1c"
      },
      "source": [
        "#Hyperparameter selection for RandomForest\n",
        "\n",
        "from scipy.stats import randint, uniform\n",
        "from sklearn.model_selection import RandomizedSearchCV\n",
        "\n",
        "param_distributions = { \n",
        "    'n_estimators': randint(50, 500), \n",
        "    'max_depth': [5, 10, 15, 20, None], \n",
        "    'max_features': uniform(0, 1), \n",
        "}\n",
        "\n",
        "search = RandomizedSearchCV(\n",
        "    RandomForestRegressor(random_state=42), \n",
        "    param_distributions=param_distributions, \n",
        "    n_iter=5, \n",
        "    cv=2, \n",
        "    scoring='neg_mean_absolute_error', \n",
        "    verbose=10, \n",
        "    return_train_score=True, \n",
        "    n_jobs=6, \n",
        "    random_state=42\n",
        ")\n",
        "\n",
        "search.fit(X_train_transformed, y_train);"
      ],
      "execution_count": 37,
      "outputs": [
        {
          "output_type": "stream",
          "text": [
            "Fitting 2 folds for each of 5 candidates, totalling 10 fits\n"
          ],
          "name": "stdout"
        },
        {
          "output_type": "stream",
          "text": [
            "[Parallel(n_jobs=6)]: Using backend LokyBackend with 6 concurrent workers.\n",
            "[Parallel(n_jobs=6)]: Done   3 out of  10 | elapsed:    6.2s remaining:   14.5s\n",
            "[Parallel(n_jobs=6)]: Done   5 out of  10 | elapsed:    6.8s remaining:    6.8s\n",
            "[Parallel(n_jobs=6)]: Done   7 out of  10 | elapsed:    8.1s remaining:    3.5s\n",
            "[Parallel(n_jobs=6)]: Done  10 out of  10 | elapsed:    8.7s finished\n"
          ],
          "name": "stderr"
        }
      ]
    },
    {
      "cell_type": "code",
      "metadata": {
        "id": "3_YI5OC6k5Wq",
        "colab_type": "code",
        "colab": {
          "base_uri": "https://localhost:8080/",
          "height": 51
        },
        "outputId": "e3c350af-854f-4248-e919-10ec5dcc5e95"
      },
      "source": [
        "print('Best hyperparameters for RandomForest', search.best_params_)\n",
        "print('Cross-validation MAE', -search.best_score_)\n",
        "mod = search.best_estimator_"
      ],
      "execution_count": 38,
      "outputs": [
        {
          "output_type": "stream",
          "text": [
            "Best hyperparameters for RandomForest {'max_depth': None, 'max_features': 0.6011150117432088, 'n_estimators': 201}\n",
            "Cross-validation MAE 0.01700963574504725\n"
          ],
          "name": "stdout"
        }
      ]
    },
    {
      "cell_type": "code",
      "metadata": {
        "id": "0moQYAGzvkow",
        "colab_type": "code",
        "colab": {
          "base_uri": "https://localhost:8080/",
          "height": 173
        },
        "outputId": "4e09fe90-42d6-4291-fd3e-c217bc8c319a"
      },
      "source": [
        "#Hyperparameter selection for XGBoost\n",
        "\n",
        "from scipy.stats import randint, uniform\n",
        "from sklearn.model_selection import RandomizedSearchCV\n",
        "\n",
        "param_distributions = { \n",
        "    'n_estimators': randint(50, 500), \n",
        "    'max_depth': [5, 10, 15, 20, None], \n",
        "}\n",
        "\n",
        "search = RandomizedSearchCV(\n",
        "    XGBRegressor(random_state=42), \n",
        "    param_distributions=param_distributions, \n",
        "    n_iter=5, \n",
        "    cv=2, \n",
        "    scoring='neg_mean_absolute_error', \n",
        "    verbose=10, \n",
        "    return_train_score=True, \n",
        "    n_jobs=6, \n",
        "    random_state=42\n",
        ")\n",
        "\n",
        "search.fit(X_train_transformed, y_train);"
      ],
      "execution_count": 39,
      "outputs": [
        {
          "output_type": "stream",
          "text": [
            "Fitting 2 folds for each of 5 candidates, totalling 10 fits\n"
          ],
          "name": "stdout"
        },
        {
          "output_type": "stream",
          "text": [
            "[Parallel(n_jobs=6)]: Using backend LokyBackend with 6 concurrent workers.\n",
            "[Parallel(n_jobs=6)]: Batch computation too fast (0.0849s.) Setting batch_size=2.\n",
            "[Parallel(n_jobs=6)]: Done   3 out of  10 | elapsed:    1.3s remaining:    3.1s\n",
            "[Parallel(n_jobs=6)]: Done   5 out of  10 | elapsed:    1.4s remaining:    1.4s\n",
            "[Parallel(n_jobs=6)]: Done   7 out of  10 | elapsed:    1.6s remaining:    0.7s\n",
            "[Parallel(n_jobs=6)]: Done  10 out of  10 | elapsed:    1.9s finished\n"
          ],
          "name": "stderr"
        },
        {
          "output_type": "stream",
          "text": [
            "[18:36:59] WARNING: /workspace/src/objective/regression_obj.cu:152: reg:linear is now deprecated in favor of reg:squarederror.\n"
          ],
          "name": "stdout"
        }
      ]
    },
    {
      "cell_type": "code",
      "metadata": {
        "id": "MM7AUjbVwYmp",
        "colab_type": "code",
        "colab": {
          "base_uri": "https://localhost:8080/",
          "height": 51
        },
        "outputId": "23bb98cb-6d2b-4a79-a8dd-cb4b9f3207c4"
      },
      "source": [
        "print('Best hyperparameters for XGB', search.best_params_)\n",
        "print('Cross-validation MAE', -search.best_score_)\n",
        "mod = search.best_estimator_"
      ],
      "execution_count": 40,
      "outputs": [
        {
          "output_type": "stream",
          "text": [
            "Best hyperparameters for XGB {'max_depth': 10, 'n_estimators': 264}\n",
            "Cross-validation MAE 0.014488131438906773\n"
          ],
          "name": "stdout"
        }
      ]
    }
  ]
}